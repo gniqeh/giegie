{
 "cells": [
  {
   "cell_type": "code",
   "execution_count": null,
   "id": "e30c9bb5",
   "metadata": {},
   "outputs": [],
   "source": [
    "import os\n",
    "import pandas as pd\n",
    "from docx import Document\n",
    "from docxcompose.composer import Composer"
   ]
  },
  {
   "cell_type": "code",
   "execution_count": null,
   "id": "cde060c6",
   "metadata": {},
   "outputs": [],
   "source": [
    "def merge_doc(source_file_path_list,target_file_path):\n",
    "    \n",
    "    \n",
    "    #from：https://www.jianshu.com/p/a9df5e74568a\n",
    "    '''\n",
    "    合并多个docx文件\n",
    "    :param source_file_path_list: 源文件路径列表\n",
    "    :param target_file_path: 目标文件路径\n",
    "    :return:\n",
    "    '''\n",
    "    # 填充分页符号文档\n",
    "    page_break_doc = Document()\n",
    "    page_break_doc.add_page_break()\n",
    "    # 定义新文档\n",
    "    target_doc = Document(source_file_path_list[0])\n",
    "    target_composer = Composer(target_doc)\n",
    "    for i in range(len(source_file_path_list)):\n",
    "        # 跳过第一个作为模板的文件\n",
    "        if i==0:\n",
    "            continue\n",
    "        # 填充分页符文档\n",
    "        target_composer.append(page_break_doc)\n",
    "        # 拼接文档内容\n",
    "        f = source_file_path_list[i]\n",
    "        target_composer.append(Document(f))\n",
    "    # 保存目标文档\n",
    "    target_composer.save(target_file_path)"
   ]
  },
  {
   "cell_type": "code",
   "execution_count": null,
   "id": "297454b0",
   "metadata": {},
   "outputs": [],
   "source": [
    "source_path = r\"X:\\\\meikaierdu\\\\\"\n",
    "source_file_list = os.listdir(source_path)"
   ]
  },
  {
   "cell_type": "code",
   "execution_count": null,
   "id": "60f3720f",
   "metadata": {},
   "outputs": [],
   "source": []
  },
  {
   "cell_type": "code",
   "execution_count": null,
   "id": "9799dba1",
   "metadata": {},
   "outputs": [],
   "source": [
    "#改名，把序号留下，其他的标题删掉\n",
    "\n",
    "newname = []\n",
    "for i in source_file_list:\n",
    "    newname.append(\"\".join(filter(str.isdigit,i)))\n",
    "\n",
    "old=[]\n",
    "new=[]\n",
    "\n",
    "for i in source_file_list:\n",
    "    old.append(source_path+i)\n",
    "    tmp=\"\".join(filter(str.isdigit,i))\n",
    "    new.append(source_path+tmp+\".docx\")\n",
    "\n",
    "for i in range(len(old)):\n",
    "    os.rename(old[i],new[i])"
   ]
  },
  {
   "cell_type": "code",
   "execution_count": null,
   "id": "80828546",
   "metadata": {},
   "outputs": [],
   "source": [
    "#顺序，要不合并的时候是乱的\n",
    "cts=[]\n",
    "for i in os.listdir(source_path):\n",
    "    cts.append(\"\".join(filter(str.isdigit,i)))\n",
    "cts = pd.DataFrame(cts).astype(\"i\").sort_values(by=0).values\n",
    "\n",
    "ods=[]\n",
    "for i in cts:\n",
    "    ods.append(str(i.item())+\".docx\")"
   ]
  },
  {
   "cell_type": "code",
   "execution_count": null,
   "id": "a84fbdd5",
   "metadata": {},
   "outputs": [],
   "source": [
    "#（1）99=重复（保留修改稿）、101=重复（有个版本有错误，已删除）\n",
    "#（2）57、69、95、100、136的文件格式不对（我已经更新）"
   ]
  },
  {
   "cell_type": "code",
   "execution_count": null,
   "id": "03949628",
   "metadata": {},
   "outputs": [],
   "source": [
    "source_path = r\"X:\\\\meikaierdu\\\\\"\n",
    "target_file = r'X:\\\\meikaierdu\\\\целевой.docx'\n",
    "source_file_list = ods"
   ]
  },
  {
   "cell_type": "code",
   "execution_count": null,
   "id": "1c764b1c",
   "metadata": {},
   "outputs": [],
   "source": [
    "source_file_list_all = []\n",
    "for file in source_file_list:\n",
    "    source_file_list_all.append(source_path+file)\n",
    "merge_doc(source_file_list_all, target_file)"
   ]
  }
 ],
 "metadata": {
  "kernelspec": {
   "display_name": "Python 3",
   "language": "python",
   "name": "python3"
  },
  "language_info": {
   "codemirror_mode": {
    "name": "ipython",
    "version": 3
   },
   "file_extension": ".py",
   "mimetype": "text/x-python",
   "name": "python",
   "nbconvert_exporter": "python",
   "pygments_lexer": "ipython3",
   "version": "3.8.8"
  }
 },
 "nbformat": 4,
 "nbformat_minor": 5
}
